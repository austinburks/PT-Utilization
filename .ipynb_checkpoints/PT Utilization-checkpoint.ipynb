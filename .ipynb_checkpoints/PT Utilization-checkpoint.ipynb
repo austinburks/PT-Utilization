{
 "cells": [
  {
   "cell_type": "markdown",
   "metadata": {},
   "source": [
    "<h1> PT Utilization Notebook </h1>\n",
    "<br>\n",
    "<h4> The objective of this notebook is to provide exploratory analysis for PT Utilization benchmarking. There are several goals of this project: </h4>\n",
    "    \n",
    "* Provide a base of historical data on which the benchmarks will be derived.\n",
    "    * This needs to be cut by different member demographic types in order to correctly use historical data\n",
    "    * A concept of seasonality would need to be introduced (Eg, Higher ED product utilization following the school calender)\n",
    "* Understanding how historical trends translate into \"good\" or \"bad\" utilization levels\n",
    "* Product specific utilization metrics will need to treated seperately and will obviously need to be treated at a product level only\n",
    "* Rolling up to product level will be the most macro we anticpate being able to go, as metric types won't be applicable cross product\n",
    "    * That being said, we can roll up certain statistics, such as % of members in x percentile, to the vertical level\n"
   ]
  },
  {
   "cell_type": "code",
   "execution_count": null,
   "metadata": {
    "collapsed": true
   },
   "outputs": [],
   "source": []
  }
 ],
 "metadata": {
  "kernelspec": {
   "display_name": "Python 3",
   "language": "python",
   "name": "python3"
  },
  "language_info": {
   "codemirror_mode": {
    "name": "ipython",
    "version": 3
   },
   "file_extension": ".py",
   "mimetype": "text/x-python",
   "name": "python",
   "nbconvert_exporter": "python",
   "pygments_lexer": "ipython3",
   "version": "3.5.1"
  }
 },
 "nbformat": 4,
 "nbformat_minor": 0
}
